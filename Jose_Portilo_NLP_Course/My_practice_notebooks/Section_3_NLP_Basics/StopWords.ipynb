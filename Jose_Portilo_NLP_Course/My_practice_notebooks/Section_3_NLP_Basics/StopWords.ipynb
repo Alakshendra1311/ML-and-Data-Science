{
 "cells": [
  {
   "cell_type": "code",
   "execution_count": 1,
   "metadata": {},
   "outputs": [],
   "source": [
    "import spacy"
   ]
  },
  {
   "cell_type": "code",
   "execution_count": 2,
   "metadata": {},
   "outputs": [],
   "source": [
    "nlp = spacy.load('en_core_web_sm')"
   ]
  },
  {
   "cell_type": "code",
   "execution_count": 3,
   "metadata": {},
   "outputs": [
    {
     "name": "stdout",
     "output_type": "stream",
     "text": [
      "{'might', 'just', \"'re\", 'somehow', 'sometimes', 'further', 'below', 'enough', 'nor', 'thus', 'least', 'name', 'more', 'eleven', '‘ll', 'get', 'hereupon', 'the', 'latterly', 'herself', 'through', 'between', 'put', 'to', 'call', 'we', 'twelve', 'what', 'four', 'become', 'too', 'about', 'upon', 'where', 'anyone', 'its', 'into', 'afterwards', 'yourselves', 'their', 'do', 'quite', 'full', 'move', 'however', 'of', 'becomes', 'often', 'over', 'everything', 'once', 'third', '‘s', 'herein', 'it', 'does', 'thereupon', 'me', 'no', 'behind', 'a', 'with', 'yours', \"'ve\", 'since', 'my', 'others', 'really', 'moreover', 'but', 'were', \"'m\", 'beside', 'hers', 'somewhere', 'keep', 'our', 'whose', 'very', '’s', 'therein', 'used', 'back', 'only', 'which', 'thereby', 'his', 'several', 'twenty', 'seems', 'make', 'be', 'please', 'another', '‘re', 'ever', 'while', 'how', 'him', 'is', 'whither', 'are', 'whatever', 'such', 'rather', 'give', 'last', 'among', 'myself', 'itself', 'whereupon', 'did', '’d', \"n't\", 'two', 'everywhere', 'something', 'one', 'will', 'seem', 'or', 'someone', 'these', 'could', 'show', 'most', 'down', 'many', 'after', 'none', 'unless', 'her', 'without', 'anyhow', 'as', 'alone', 'she', 'already', 'your', 'yet', 'next', 'thereafter', 'five', 'from', 'sixty', 'serious', 'formerly', 'other', 'fifty', 'that', 'also', 'anything', 'you', 'cannot', 'latter', 'perhaps', 'wherein', \"'s\", 'though', \"'ll\", 'always', 'can', 'at', 'themselves', 'almost', 'mostly', '’m', 'hundred', 'has', 'across', 'ca', 'on', 'us', 'yourself', 'top', 'when', '‘m', \"'d\", 'doing', 'see', 'any', 'everyone', 'whenever', 'bottom', 'although', 'must', 'go', 'for', 'towards', 'during', 'first', 'should', 'front', 'was', 'nevertheless', 'here', 'whom', 'indeed', 'own', 'again', 'toward', 'seemed', 'nothing', 'been', 'above', 'due', 'an', 'whereby', 'before', 'nowhere', 'part', 'noone', 'few', 'made', 'may', 'regarding', 'because', 're', '’re', 'beforehand', 'whoever', 'both', 'three', 'beyond', 'same', 'either', '’ve', 'in', 'else', 'not', 'i', 'seeming', 'ours', 'they', 'along', 'all', 'throughout', 'thru', 'so', 'whereas', 'them', '’ll', 'empty', 'around', 'hereafter', 'until', 'whence', 'himself', 'n‘t', 'against', 'never', 'mine', 'ourselves', 'well', 'anywhere', 'say', 'per', 'out', 'eight', 'if', 'had', 'each', 'thence', 'am', 'within', 'neither', 'hence', 'nine', 'this', 'elsewhere', 'much', 'using', 'anyway', 'former', 'therefore', 'namely', 'amongst', 'nobody', 'who', '‘d', 'then', 'he', 'meanwhile', 'up', 'hereby', 'whereafter', 'together', 'various', 'done', 'became', 'have', 'still', 'except', 'now', 'those', 'via', 'sometime', 'under', 'by', 'ten', 'onto', 'n’t', 'becoming', 'side', 'even', 'off', 'whole', 'some', 'why', 'less', 'there', 'being', 'every', 'amount', '‘ve', 'otherwise', 'and', 'wherever', 'forty', 'six', 'whether', 'besides', 'than', 'would', 'take', 'fifteen'}\n"
     ]
    }
   ],
   "source": [
    "print(nlp.Defaults.stop_words)"
   ]
  },
  {
   "cell_type": "code",
   "execution_count": 4,
   "metadata": {},
   "outputs": [
    {
     "data": {
      "text/plain": [
       "326"
      ]
     },
     "execution_count": 4,
     "metadata": {},
     "output_type": "execute_result"
    }
   ],
   "source": [
    "len(nlp.Defaults.stop_words)"
   ]
  },
  {
   "cell_type": "code",
   "execution_count": 5,
   "metadata": {},
   "outputs": [
    {
     "data": {
      "text/plain": [
       "False"
      ]
     },
     "execution_count": 5,
     "metadata": {},
     "output_type": "execute_result"
    }
   ],
   "source": [
    "nlp.vocab['mystery'].is_stop"
   ]
  },
  {
   "cell_type": "code",
   "execution_count": 6,
   "metadata": {},
   "outputs": [],
   "source": [
    "nlp.Defaults.stop_words.add('btw')"
   ]
  },
  {
   "cell_type": "code",
   "execution_count": 7,
   "metadata": {},
   "outputs": [],
   "source": [
    "\n",
    "nlp.vocab['btw'].is_stop = True"
   ]
  },
  {
   "cell_type": "code",
   "execution_count": 8,
   "metadata": {},
   "outputs": [
    {
     "data": {
      "text/plain": [
       "327"
      ]
     },
     "execution_count": 8,
     "metadata": {},
     "output_type": "execute_result"
    }
   ],
   "source": [
    "len(nlp.Defaults.stop_words)"
   ]
  },
  {
   "cell_type": "code",
   "execution_count": 9,
   "metadata": {},
   "outputs": [
    {
     "data": {
      "text/plain": [
       "True"
      ]
     },
     "execution_count": 9,
     "metadata": {},
     "output_type": "execute_result"
    }
   ],
   "source": [
    "nlp.vocab['btw'].is_stop"
   ]
  },
  {
   "cell_type": "code",
   "execution_count": 10,
   "metadata": {},
   "outputs": [],
   "source": [
    "nlp.Defaults.stop_words.remove('beyond')"
   ]
  },
  {
   "cell_type": "code",
   "execution_count": 11,
   "metadata": {},
   "outputs": [],
   "source": [
    "nlp.vocab['beyond'].is_stop = False"
   ]
  },
  {
   "cell_type": "code",
   "execution_count": 12,
   "metadata": {},
   "outputs": [
    {
     "data": {
      "text/plain": [
       "False"
      ]
     },
     "execution_count": 12,
     "metadata": {},
     "output_type": "execute_result"
    }
   ],
   "source": [
    "nlp.vocab['beyond'].is_stop"
   ]
  },
  {
   "cell_type": "code",
   "execution_count": null,
   "metadata": {},
   "outputs": [],
   "source": []
  }
 ],
 "metadata": {
  "kernelspec": {
   "display_name": "Python 3",
   "language": "python",
   "name": "python3"
  },
  "language_info": {
   "codemirror_mode": {
    "name": "ipython",
    "version": 3
   },
   "file_extension": ".py",
   "mimetype": "text/x-python",
   "name": "python",
   "nbconvert_exporter": "python",
   "pygments_lexer": "ipython3",
   "version": "3.7.4"
  }
 },
 "nbformat": 4,
 "nbformat_minor": 2
}
